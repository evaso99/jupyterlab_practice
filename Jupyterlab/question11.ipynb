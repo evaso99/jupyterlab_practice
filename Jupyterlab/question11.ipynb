{
 "cells": [
  {
   "cell_type": "markdown",
   "id": "13f8f494-e549-4c23-bbb8-958f8f4cb8ed",
   "metadata": {},
   "source": [
    "# Eva So\n",
    "Notebook for assignment 7"
   ]
  },
  {
   "cell_type": "code",
   "execution_count": 2,
   "id": "8895b4e6-6d43-4fea-b7c8-f7d3417c633a",
   "metadata": {},
   "outputs": [
    {
     "name": "stdout",
     "output_type": "stream",
     "text": [
      "5.0\n"
     ]
    }
   ],
   "source": [
    "def compute_mean(numbers):\n",
    "    if len(numbers) == 0:\n",
    "        return 'List is empty'\n",
    "    mean_value = sum(numbers) / len(numbers)\n",
    "    print(mean_value)\n",
    "\n",
    "\n",
    "compute_mean([2, 4, 6, 8])\n"
   ]
  },
  {
   "cell_type": "markdown",
   "id": "8390c81b-8d3b-4a3c-84e2-90a31387da54",
   "metadata": {},
   "source": [
    "## Explanation\n",
    "\n",
    "The code above calculates the mean of a list of numbers and prints the result. The equation for calculating the mean is:\n",
    "\n",
    "$$ \\bar{x}  = \\frac{1}{n} \\sum_{i=1}^{n} x_i $$\n",
    "\n",
    "\n",
    "\n",
    "Alternatively, the equation can also be expressed as:\n",
    " \n",
    "$$ \\bar{x}  = \\frac{x_1 + x_2 + \\cdots + x_n}{n} $$\n",
    "\n",
    "\n",
    "\n",
    "\n",
    "\n",
    "\n",
    "\n",
    "\n"
   ]
  },
  {
   "cell_type": "code",
   "execution_count": null,
   "id": "e85d7a6f-4856-4e3b-87a6-1107043d0d3b",
   "metadata": {},
   "outputs": [],
   "source": []
  }
 ],
 "metadata": {
  "kernelspec": {
   "display_name": "Python [conda env:jupyterlab_practice_env]",
   "language": "python",
   "name": "conda-env-jupyterlab_practice_env-py"
  },
  "language_info": {
   "codemirror_mode": {
    "name": "ipython",
    "version": 3
   },
   "file_extension": ".py",
   "mimetype": "text/x-python",
   "name": "python",
   "nbconvert_exporter": "python",
   "pygments_lexer": "ipython3",
   "version": "3.12.4"
  }
 },
 "nbformat": 4,
 "nbformat_minor": 5
}
